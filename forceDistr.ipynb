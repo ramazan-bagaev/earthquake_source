{
 "cells": [
  {
   "cell_type": "code",
   "execution_count": 9,
   "metadata": {},
   "outputs": [],
   "source": [
    "%matplotlib widget\n",
    "from mpl_toolkits.mplot3d import Axes3D\n",
    "import matplotlib.pyplot as plt\n",
    "import math"
   ]
  },
  {
   "cell_type": "code",
   "execution_count": 10,
   "metadata": {},
   "outputs": [],
   "source": [
    "x = []\n",
    "y = []\n",
    "z = []\n",
    "u = []\n",
    "v = []\n",
    "w = []\n",
    "for i in range(-2, 3):\n",
    "    for j in range(-2,3):\n",
    "        for k in range(-2,3):\n",
    "            x.append(i)\n",
    "            y.append(j)\n",
    "            z.append(k)\n",
    "            u.append(0)\n",
    "            v.append(0)\n",
    "            w.append(0)"
   ]
  },
  {
   "cell_type": "code",
   "execution_count": 11,
   "metadata": {},
   "outputs": [],
   "source": [
    "n = [1, 0, 0]\n",
    "d = [0, 1, 0]\n",
    "M0 = 100\n",
    "h = 2\n",
    "koef = M0/(h*h*h*h)\n",
    "mxx = koef*2*n[0]*d[0]\n",
    "myy = koef*2*n[1]*d[1]\n",
    "mzz = koef*2*n[2]*d[2]\n",
    "mxy = koef*(n[0]*d[1] + n[1]*d[0])\n",
    "mxz = koef*(n[0]*d[2] + n[2]*d[0])\n",
    "myz = koef*(n[1]*d[2] + n[2]*d[1])"
   ]
  },
  {
   "cell_type": "code",
   "execution_count": 12,
   "metadata": {},
   "outputs": [],
   "source": [
    "def get_index(i, j, k):\n",
    "    return i*25 + j*5 + k + 62"
   ]
  },
  {
   "cell_type": "code",
   "execution_count": 13,
   "metadata": {},
   "outputs": [],
   "source": [
    "def add_force(c, i, j, k, value):\n",
    "    index = get_index(i, j, k)\n",
    "    if c == 'x':\n",
    "        u[index] += value\n",
    "    if c == 'y':\n",
    "        v[index] += value\n",
    "    if c == 'z':\n",
    "        w[index] += value"
   ]
  },
  {
   "cell_type": "code",
   "execution_count": 14,
   "metadata": {},
   "outputs": [],
   "source": [
    "def init_forces():\n",
    "    # x component\n",
    "    add_force('x', 1, 0, 0, mxx)\n",
    "    add_force('x', -1, 0, 0, -mxx)\n",
    "    add_force('x', -1, 2, 0, mxy/4)\n",
    "    add_force('x', 1, 2, 0, mxy/4)\n",
    "    add_force('x', -1, -2, 0, -mxy/4)\n",
    "    add_force('x', 1, -2, 0, -mxy/4)\n",
    "    add_force('x', -1, 0, 2, mxz/4)\n",
    "    add_force('x', 1, 0, 2, mxz/4)\n",
    "    add_force('x', -1, 0, -2, -mxz/4)\n",
    "    add_force('x', 1, 0, -2, -mxz/4)\n",
    "    # y component\n",
    "    add_force('y', 0, 1, 0, myy)\n",
    "    add_force('y', 0, -1, 0, -myy)\n",
    "    add_force('y', 2, -1, 0, mxy/4)\n",
    "    add_force('y', 2, 1, 0, mxy/4)\n",
    "    add_force('y', -2, -1, 0, -mxy/4)\n",
    "    add_force('y', -2, 1, 0, -mxy/4)\n",
    "    add_force('y', 0, -1, 2, myz/4)\n",
    "    add_force('y', 0, 1, 2, myz/4)\n",
    "    add_force('y', 0, -1, -2, myz/4)\n",
    "    add_force('y', 0, 1, -2, -myz/4)\n",
    "    # z component\n",
    "    add_force('z', 0, 0, 1, mzz)\n",
    "    add_force('z', 0, 0, -1, -mzz)\n",
    "    add_force('z', 2, 0, -1, mxz/4)\n",
    "    add_force('z', 2, 0, 1, mxz/4)\n",
    "    add_force('z', -2, 0, -1, -mxz/4)\n",
    "    add_force('z', -2, 0, 1, -mxz/4)\n",
    "    add_force('z', 0, 2, -1, myz/4)\n",
    "    add_force('z', 0, 2, 1, myz/4)\n",
    "    add_force('z', 0, -2, -1, myz/4)\n",
    "    add_force('z', 0, -2, 1, -myz/4)"
   ]
  },
  {
   "cell_type": "code",
   "execution_count": 15,
   "metadata": {
    "scrolled": true
   },
   "outputs": [],
   "source": [
    "def draw_interactive():\n",
    "    #interactive\n",
    "    fig = plt.figure()\n",
    "    ax = fig.add_subplot(111, projection='3d')\n",
    "    ax.view_init(30, 90)\n",
    "    ax.quiver(x, y, z, u, v, w)\n",
    "    ax.set_xlabel('X')\n",
    "    ax.set_ylabel('Y')\n",
    "    ax.set_zlabel('Z')\n",
    "    ax.set_xlim3d(-3,3)\n",
    "    ax.set_ylim3d(-3,3)\n",
    "    ax.set_zlim3d(-3,3)\n",
    "    fig.set_size_inches(8, 8)\n",
    "\n",
    "    ax.quiver(0, 0, 0, n[0], n[1], n[2], color = 'r')\n",
    "    ax.text(n[0], n[1], n[2], \"normal\", n)\n",
    "    ax.quiver(0, 0, 0, d[0], d[1], d[2], color = 'g')\n",
    "    ax.text(d[0], d[1], d[2], \"slip\", d)\n",
    "\n",
    "    plt.show()"
   ]
  },
  {
   "cell_type": "code",
   "execution_count": 17,
   "metadata": {},
   "outputs": [
    {
     "data": {
      "application/vnd.jupyter.widget-view+json": {
       "model_id": "bb9ce2ef2e4c4846a8f8d4583355646e",
       "version_major": 2,
       "version_minor": 0
      },
      "text/plain": [
       "FigureCanvasNbAgg()"
      ]
     },
     "metadata": {},
     "output_type": "display_data"
    }
   ],
   "source": [
    "init_forces()\n",
    "draw_interactive()"
   ]
  }
 ],
 "metadata": {
  "kernelspec": {
   "display_name": "Python 3",
   "language": "python",
   "name": "python3"
  },
  "language_info": {
   "codemirror_mode": {
    "name": "ipython",
    "version": 3
   },
   "file_extension": ".py",
   "mimetype": "text/x-python",
   "name": "python",
   "nbconvert_exporter": "python",
   "pygments_lexer": "ipython3",
   "version": "3.6.6"
  }
 },
 "nbformat": 4,
 "nbformat_minor": 2
}
